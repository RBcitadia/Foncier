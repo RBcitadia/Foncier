{
 "cells": [
  {
   "cell_type": "markdown",
   "metadata": {},
   "source": [
    "### Paramètres généraux"
   ]
  },
  {
   "cell_type": "code",
   "execution_count": 1,
   "metadata": {
    "collapsed": true
   },
   "outputs": [],
   "source": [
    "#!/usr/bin/env python3\n",
    "# coding: utf-8\n",
    "\n",
    "__author__ = ['[Citadia](https://gitlab.com/Citadia)']\n",
    "__date__ = '2017.12.08'\n",
    "\n",
    "import pandas as pd\n",
    "import geopandas as gpd\n",
    "import numpy as np\n",
    "import time\n",
    "import os\n",
    "import pprint\n",
    "from tkinter import *\n",
    "from numpy import mean\n",
    "from numpy import median\n",
    "\n",
    "t = time.process_time()\n",
    "get_ipython().magic('matplotlib notebook')"
   ]
  },
  {
   "cell_type": "markdown",
   "metadata": {},
   "source": [
    "### Paramètres utilisateur"
   ]
  },
  {
   "cell_type": "code",
   "execution_count": 2,
   "metadata": {},
   "outputs": [
    {
     "name": "stdout",
     "output_type": "stream",
     "text": [
      "Distance en mètre entre la voirie et l'unité foncière non bâtie50\n",
      "surface minimum des unités foncières non bâties500\n",
      "CES maximum des grandes unités foncières bâties10\n",
      "surface minimum des grandes unités foncières bâties2000\n"
     ]
    }
   ],
   "source": [
    "# #uf non bâtie\n",
    "# desserte = float(input(\"Distance en mètre entre la voirie et l'unité foncière non bâtie\"))\n",
    "# surf_min_uf_non_batie = float(input(\"surface minimum des unités foncières non bâties\"))\n",
    "\n",
    "# #uf bâtie\n",
    "# ces_max = float(input(\"CES maximum des grandes unités foncières bâties\"))\n",
    "# surf_min_uf_batie = float(input(\"surface minimum des grandes unités foncières bâties\"))\n",
    "\n",
    "desserte = 50\n",
    "surf_min_uf_non_batie = 500\n",
    "ces_max = 10\n",
    "surf_min_uf_batie = 2000"
   ]
  },
  {
   "cell_type": "markdown",
   "metadata": {},
   "source": [
    "### Import des données"
   ]
  },
  {
   "cell_type": "markdown",
   "metadata": {},
   "source": [
    "## Orientation objet"
   ]
  },
  {
   "cell_type": "code",
   "execution_count": null,
   "metadata": {
    "collapsed": true
   },
   "outputs": [],
   "source": [
    "donnee = []\n",
    "dict_shp = {}\n",
    "\n",
    "class data: # class permettant de définir le dossier de données indiqué par l'utilisateur\n",
    "    def __init__(self, nom):\n",
    "        self.nom = nom\n",
    "        print('Initialisation du dossier de donnée : {})'.format(self.nom))\n",
    "\n",
    "    def listing(self):  # Fonction listing permettant de selectionner les fichier shapefile contenu dans le dossier utilisateur\n",
    "        for shape in os.listdir(self):\n",
    "            if shape.endswith('.shp'):\n",
    "                donnee.append(shape)\n",
    "            else:\n",
    "                pass\n",
    "\n",
    "    def dictionnaire(self):  # ## Etablissement d'un dictionnaire pour guider l'utilisateur dans le choix des données à utiliser\n",
    "        index =[]\n",
    "        i = 1\n",
    "        for shp in donnee:  # Création de la liste d'index du dictionnaire\n",
    "            index.append(i)\n",
    "            i = i + 1\n",
    "        y = 0\n",
    "        for x in index:  # La liste des couches shape sera contenu dans le dictionnaire dict_shp dont chaque fichier shape sera associé à un index\n",
    "            dict_shp[x] = donnee[y]\n",
    "            y = y + 1\n",
    "        pprint.pprint(dict_shp) # Permettant de lister l'ensemble des couches shape du dossier associé à un numéro\n",
    "\n",
    "        def prep(self, info, num):\n",
    "            info = gpd.read_file(self + \"/\" + data_shp[num])\n",
    "            info = info.to_crs({'init':'epsg:2154'})\n",
    "            info = info[[\"geometry\"]]\n",
    "\n",
    "        def nettoyage(nom_donnee):\n",
    "            nom_donnee = nom_donnee[nom_donnee[\"geometry\"].notnull()]\n",
    "            nom_donnee = nom_donnee[nom_donnee[\"geometry\"].is_valid]"
   ]
  },
  {
   "cell_type": "code",
   "execution_count": 3,
   "metadata": {
    "collapsed": true
   },
   "outputs": [],
   "source": [
    "choix_du_dossier = input(\"Indiquez le chemin du dossier contenant les données : \")\n",
    "data(choix_du_dossier) # définition du dossier utilisateur\n",
    "data.listing(choix_du_dossier) # listing des fichiers shape\n",
    "data.dictionnaire(choix_du_dossier) # Association des fichiers à un numéro (index)"
   ]
  },
  {
   "cell_type": "code",
   "execution_count": null,
   "metadata": {
    "collapsed": true
   },
   "outputs": [],
   "source": [
    "# ## Paramétrage utilisateur\n",
    "## Une fois que les fichiers shape ont été associé à un numéro, l'utilisateur pourra sélectionner les fichiers shape par leur numéro (index) correspondant\n",
    "# Choix de la donnée!!!!\n",
    "fenetre = tk()\n",
    "label = label(fenetre, text=\"Choix de l'info\")\n",
    "label.pack()\n",
    "info = listbox(fenetre)\n",
    "info.insert(1, \"parcelle\")\n",
    "info.insert(2, \"bati\")\n",
    "info.insert(3, \"surf_hydro\")\n",
    "info.insert(4, \"voie_ferree\")\n",
    "info.insert(5, \"route\")\n",
    "info.insert(6, \"enveloppe\")\n",
    "info.insert(7, \"filtres_excluants\")\n",
    "info.pack()"
   ]
  },
  {
   "cell_type": "code",
   "execution_count": null,
   "metadata": {
    "collapsed": true
   },
   "outputs": [],
   "source": [
    "# 1 Choix de la donnée : parcelle\n",
    "print(\"Choix de la donnée : Parcelle\")\n",
    "parcelle = \"\"\n",
    "while 1:\n",
    "    choix_parcelle = int(input(\"Indiquez le numero de la donnée correspondant aux parcelles (BD parcellaire, Cadastre DGFiP, ...) : \"))\n",
    "    if choix_parcelle in dict_shp:\n",
    "        prep(parcelle, choix_parcelle)\n",
    "        nettoyage(parcelle)\n",
    "        print(\"La couche parcelle a été défini!\")\n",
    "\n",
    "# 2 Choix de la donnée : bâti\n",
    "print(\"Choix de la donnée : Bâti\")\n",
    "bati = \"\"\n",
    "while 1:\n",
    "    choix_bati = int(input(\"Indiquez le numero de la donnée correspondant aux bâti (BD parcellaire, Cadastre DGFiP, ...) : \"))\n",
    "    if choix_bati in dict_shp:\n",
    "        prep(bati, choix_bati)\n",
    "        nettoyage(bati)\n",
    "        print(\"La couche bati a été défini!\")\n",
    "        break\n",
    "\n",
    "# 3 Choix de la donnée : surface en eau\n",
    "print(\"\\nChoix de la donnée : Surface en eau\")\n",
    "surf_hydro = \"\"\n",
    "while 1:\n",
    "    choix_hydro = int(input(\"Indiquez le numero de la donnée correspondant à la surface en eau : \"))\n",
    "    if choix_hydro in dict_shp:\n",
    "        prep(surf_hydro, choix_hydro)\n",
    "        print(\"La couche surface en eau a été défini!\")\n",
    "        break\n",
    "\n",
    "# 4 Choix de la donnée : Voie ferrée\n",
    "print(\"\\nChoix de la donnée : Voie ferrée\")\n",
    "voie_ferree = \"\"\n",
    "while 1:\n",
    "    choix_voie_ferree = int(input(\"Indiquez le numero de la donnée correspondant aux voies ferrées : \"))\n",
    "    if choix_voie_ferree in dict_shp:\n",
    "        prep(voie_ferree, choix_voie_ferre)\n",
    "        print(\"La couche des voies ferrées a été défini!\")\n",
    "        break\n",
    "\n",
    "# 5 Choix de la donnée : Route\n",
    "print(\"\\nChoix de la donnée : Route\")\n",
    "route = \"\"\n",
    "while 1:\n",
    "    choix_route = int(input(\"Indiquez le numero de la donnée correspondant aux routes : \"))\n",
    "    if choix_route in dict_shp:\n",
    "        prep(route, choix_route)\n",
    "        print(\"La couche des routes a été défini!\")\n",
    "        break\n",
    "\n",
    "# 6 Choix de la donnée : Enveloppe urbaine\n",
    "print(\"\\nChoix de la donnée : enveloppe urbaine\")\n",
    "enveloppe = \"\"\n",
    "while 1:\n",
    "    choix_enveloppe = int(input(\"Indiquez le numero de la donnée correspondant à l'enveloppe urbaine (ou le zonage) : \"))\n",
    "    if choix_enveloppe in dict_shp:\n",
    "        question = input(\"S'agit-il d'une couche de l'enveloppe urbaine (e) ou d'un zonage (z)? Veuillez préciser e ou z : \")\n",
    "        if question == \"z\":\n",
    "            enveloppe = gpd.red_file(choix_du_dossier + \"/\" + dict_shp[choix_enveloppe])\n",
    "            enveloppe = enveloppe.to_crs({'init':'epsg:2154'})\n",
    "            enveloppe.columns = map(str.lower, enveloppe.columns)\n",
    "            enveloppe = enveloppe[enveloppe[\"typezone\"] == 'U']\n",
    "            enveloppe = enveloppe[[\"libelle\", \"typezone\", \"destdomi\", \"insee\", \"geometry\"]]\n",
    "        else:\n",
    "            prep(enveloppe, choix_enveloppe)\n",
    "        print(\"La couche de l'enveloppe urbaine a été défini!\")\n",
    "        break\n",
    "\n",
    "# 7 Choix de la donnée : filtres excluants (cimetière, terrains de sport, etc)\n",
    "print(\"Choix de la donnée : Filtres excluants\")\n",
    "filtre_1 = \"\"\n",
    "filtre_2 = \"\"\n",
    "filtre_3 = \"\"\n",
    "\n",
    "question_1 = input(\" \\n Sélectionner une donnée comme filtre exluant? : o (oui) ou n (non) \\n\")\n",
    "if question_1 == \"o\":\n",
    "    choix_filtre_1 = int(input(\"Indiquez le numero de la donnée correspondant aux filtres excluants (terrain de sport, cimetière, ...), en l'absence de filtres excluants supplémentaires appuyez sur la touche entrer: \")) # introduire la possibilité d'entrer plusieurs couches\n",
    "    while 1:\n",
    "        if filtre_1 in dict_shp:\n",
    "            prep(filtre_1, choix_filtre_1)\n",
    "            print(\"La couche filtre exluant n°1 a été défini!\")\n",
    "            break\n",
    "    question_2 = input(\"\\n Sélectionner une autre donnée comme filtre exluant? : o (oui) ou n (non) \\n\")\n",
    "    if question_2 == \"o\":\n",
    "        choix_filtre_2 = int(input(\"Indiquez le numero de la donnée correspondant aux filtres excluants (terrain de sport, cimetière, ...), en l'absence de filtres excluants supplémentaires appuyez sur la touche entrer: \")) # introduire la possibilité d'entrer plusieurs couches\n",
    "        while 1:\n",
    "            if filtre_1 in dict_shp:\n",
    "                prep(filtre_2, choix_filtre_2)\n",
    "                print(\"La couche filtre exluant n°2 a été défini!\")\n",
    "                break\n",
    "        question 3 =  input(\"\\n Sélectionner une autre donnée comme filtre exluant? : o (oui) ou n (non) \\n\")\n",
    "        if question_3 == \"o\":\n",
    "            choix_filtre_3 = int(input(\"Indiquez le numero de la donnée correspondant aux filtres excluants (terrain de sport, cimetière, ...), en l'absence de filtres excluants supplémentaires appuyez sur la touche entrer: \")) # introduire la possibilité d'entrer plusieurs couches\n",
    "            while 1:\n",
    "                if filtre_3 in dict_shp:\n",
    "                    prep(filtre_3, choix_filtre_3)\n",
    "                    print(\"La couche filtre exluant n°3 a été défini!\")\n",
    "                    break\n",
    "else:\n",
    "    pass\n"
   ]
  },
  {
   "cell_type": "markdown",
   "metadata": {},
   "source": [
    "### Index spatial"
   ]
  },
  {
   "cell_type": "code",
   "execution_count": null,
   "metadata": {
    "collapsed": true
   },
   "outputs": [],
   "source": [
    " def index_spatial(ref_geom, target_geom):\n",
    "     target_geom = target_geom.unary_union\n",
    "     spatial_index = ref_geom.sindex #index spatial sur les parcelles\n",
    "     possible_index = list(spatial_index.intersection(target_geom.bounds)) #récupération de l'index des parcelles qui intersecte la bounding box du bati\n",
    "     possible = ref_geom.iloc[sorted(possible_index)]\n",
    "     precise = possible[possible.intersects(target_geom)] #récupération des parcelles qui intersecte le bati\n",
    "     return(precise)"
   ]
  },
  {
   "cell_type": "markdown",
   "metadata": {},
   "source": [
    "### Prise en compte des zones U"
   ]
  },
  {
   "cell_type": "code",
   "execution_count": 5,
   "metadata": {
    "collapsed": true
   },
   "outputs": [],
   "source": [
    "parcelle_urbaine = gpd.overlay(parcelle, enveloppe, how ='intersection')\n",
    "parcelle_urbaine.insert(0, \"id_par\", range(1, 1 + len(parcelle_urbaine)))\n",
    "parcelle_urbaine.insert(1, \"surf_par\", parcelle_urbaine[\"geometry\"].area)"
   ]
  },
  {
   "cell_type": "markdown",
   "metadata": {},
   "source": [
    "### Prise en compte des filtre techniques"
   ]
  },
  {
   "cell_type": "code",
   "execution_count": 6,
   "metadata": {
    "collapsed": true,
    "scrolled": true
   },
   "outputs": [],
   "source": [
    "filtre_centroid = \"\"\n",
    "def suppr(filtre):\n",
    "    filtre_centroid = filtre\n",
    "    filtre_centroid[\"geometry\"] = filtre.centroid\n",
    "    parcelle_urbaine = parcelle_urbaine[parcelle_urbaine.disjoint(filtre_centroid.unry_union)]\n",
    "# Supression des parcelles intersectant le filtre_1\n",
    "if filtre_1 =! \"\":\n",
    "    suppr(filtre_1)\n",
    "else:\n",
    "    pass\n",
    "# Supression des parcelles intersectant le filtre_2\n",
    "if filtre_2 = ! \"\":\n",
    "    suppr(filtre_2)\n",
    "else:\n",
    "    pass\n",
    "\n",
    "# Supression des parcelles intersectant le filtre_3\n",
    "if filtre_3 = ! \"\":\n",
    "    suppr(filtre_3)\n",
    "else:\n",
    "    pass\n",
    "\n",
    "# Suppression des surfaces intersectant des surfaces en eau\n",
    "parcelle_urbaine = gpd.overlay(parcelle_urbaine, surf_hydro, how='difference')\n",
    "\n",
    "# Suppression des parcelles intersectant des voies ferrées\n",
    "voie_ferree_buffer = voie_ferree\n",
    "voie_ferree_buffer['geometry'] = voie_ferree.buffer(1) # le traitement ne foncitonne pas entre une couche ligne et une couche polygone!\n",
    "parcelle_urbaine = parcelle_urbaine[parcelle_urbaine.disjoint(voie_ferree_buffer.unary_union)]"
   ]
  },
  {
   "cell_type": "markdown",
   "metadata": {},
   "source": [
    "### Calcul du CES"
   ]
  },
  {
   "cell_type": "code",
   "execution_count": 7,
   "metadata": {
    "collapsed": true
   },
   "outputs": [],
   "source": [
    "parcelle_urbaine = index_spatial(parcelle_urbaine, bati)\n",
    "\n",
    "#intersection bati/parcelle urbaine\n",
    "intersection = gpd.overlay(bati, parcelle_urbaine, how='intersection')\n",
    "\n",
    "#dissolve par id_par\n",
    "dissolve = intersection.dissolve(by='id_par').reset_index()\n",
    "dissolve.insert(4, \"surf_bat\", dissolve[\"geometry\"].area)\n",
    "dissolve[\"surf_bat\"] = dissolve[\"geometry\"].area\n",
    "dissolve.drop(\"geometry\", axis=1, inplace=True)\n",
    "\n",
    "#calcul du ces\n",
    "ces = parcelle_urbaine.merge(dissolve, how='left', on='id_par', suffixes=('', '_y'))\n",
    "ces['ces'] = ces['surf_bat']/ces['surf_par']*100\n",
    "ces = ces.fillna(0)\n",
    "\n",
    "#calcul de la forme\n",
    "ces.insert(4, \"shape\", ((ces.boundary.length)/(2*np.sqrt(np.pi*ces[\"surf_par\"]))))\n",
    "ces.insert(5, \"shape2\", ((ces.boundary.length)/(np.sqrt(ces[\"surf_par\"]))))\n",
    "\n",
    "#nettoyage de la donnée CES\n",
    "ces = ces[['id_par', 'surf_par', 'surf_bat', 'ces', 'shape', 'shape2', 'libelle', 'typezone', 'destdomi', 'insee', 'geometry']]\n",
    "ces.crs = {'init':'epsg:2154'}"
   ]
  },
  {
   "cell_type": "markdown",
   "metadata": {},
   "source": [
    "### Calcul du ces route"
   ]
  },
  {
   "cell_type": "code",
   "execution_count": 9,
   "metadata": {
    "collapsed": true
   },
   "outputs": [],
   "source": [
    "parcelle_urbaine = index_spatial(parcelle, enveloppe)\n",
    "parcelle_urbaine.insert(0, \"id_par\", range(1, 1 + len(parcelle_urbaine)))\n",
    "parcelle_urbaine.insert(1, \"surf_par\", parcelle_urbaine[\"geometry\"].area)\n",
    "parcelle_urbaine.to_file(\"parcelle_urbaine.shp\")\n",
    "\n",
    "# buffer de 5m sur les routes\n",
    "route_buffer=route\n",
    "route_buffer['geometry']= route_buffer.buffer(5)\n",
    "\n",
    "# CES des routes dans les parcelles\n",
    "intersection=gpd.overlay(route_buffer, parcelle_urbaine, how='intersection')\n",
    "dissolve = intersection.dissolve(by='id_par').reset_index()\n",
    "dissolve.insert(2, \"surf_route\", dissolve[\"geometry\"].area)\n",
    "dissolve[\"surf_route\"] = dissolve[\"geometry\"].area\n",
    "dissolve.to_file(\"dissolve.shp\")\n",
    "dissolve.drop(\"geometry\", axis=1, inplace=True)\n",
    "\n",
    "ces_route=parcelle_urbaine.merge(dissolve, how='left', on='id_par', suffixes=('', '_y'))\n",
    "ces_route.to_file(\"test_ces_routeTEMP.shp\")\n",
    "ces_route['ces_route'] = ces_route['surf_route']/ces_route['surf_par']*100\n",
    "ces_route=ces_route.fillna(0)\n",
    "ces_route = ces_route[['id_par', 'surf_par', 'ces_route', 'geometry']]\n",
    "ces_route.crs = {'init':'epsg:2154'}\n",
    "\n",
    "#Selection de la voirie cadastrée (ces_route > 40%)\n",
    "ces_route = ces_route[(ces_route[\"ces_route\"] > 40)]\n",
    "\n",
    "#Suppression du cadastre d'étude de  la voirie cadastrée sélectionnée\n",
    "ces = gpd.overlay(ces, ces_route, how = \"difference\")\n",
    "\n",
    "# ces.to_file(\"ces2.shp\")\n",
    "# route_buffer.to_file(\"route_buffer.shp\")\n",
    "# ces_route.to_file(\"test_ces_route2.shp\")"
   ]
  },
  {
   "cell_type": "markdown",
   "metadata": {},
   "source": [
    "### Information sur le CES à la commune"
   ]
  },
  {
   "cell_type": "code",
   "execution_count": null,
   "metadata": {
    "collapsed": true
   },
   "outputs": [],
   "source": [
    "def info_ces(couche_ces):\n",
    "    print(\"\\n Informations sur le Coefficient d'emprise au sol de la commune \\n\")\n",
    "    print(\"Coefficient d'emprise au sol moyen : \" + str(mean(couche_ces[\"ces\"])) + \"%\")\n",
    "    print(\"Coefficient d'emprise au sol médian : \" + str(median(couche_ces[\"ces\"])) + \"%\")\n",
    "\n",
    "info_ces(ces)"
   ]
  },
  {
   "cell_type": "markdown",
   "metadata": {},
   "source": [
    "### Information sur les parcelles urbanisées"
   ]
  },
  {
   "cell_type": "code",
   "execution_count": null,
   "metadata": {
    "collapsed": true
   },
   "outputs": [],
   "source": [
    "def info_parcelle(couche_parcelle):\n",
    "    print(\"\\n Informations sur les parcelles urbanisées de la commune \\n\")\n",
    "    print(\"Superficie moyenne des parcelles urbanisées : \" + str(mean(couche_parcelle[\"surf_par\"])) + \"m²\")\n",
    "    print(\"Superficie médiane des parcelles urbanisées : \" + str(median(couche_parcelle[\"surf_par\"])) + \"m²\")\n",
    "    print(\"Superficie minimale des parcelles urbanisées : \" + str(min(couche_parcelle[\"surf_par\"])) + \"m²\")\n",
    "    print(\"Superficie maximale des parcelles urbanisées : \" + str(max(couche_parcelle[\"surf_par\"])) + \"m²\")\n",
    "\n",
    "info_parcelle(parcelle_uraine)"
   ]
  },
  {
   "cell_type": "markdown",
   "metadata": {},
   "source": [
    "### Sélection parcelles"
   ]
  },
  {
   "cell_type": "code",
   "execution_count": null,
   "metadata": {
    "collapsed": true
   },
   "outputs": [],
   "source": [
    "parcelle_vide = ces[(ces[\"ces\"] < 0.5) & (ces[\"surf_par\"]> surf_min_uf_non_batie) & (ces[\"shape\"]<2.5) & (ces[\"shape2\"]<8)]\n",
    "parcelle_batie = ces[(ces[\"ces\"]<ces_max) & (ces[\"ces\"]> 0.5) & (ces[\"surf_par\"]> surf_min_uf_batie)]"
   ]
  },
  {
   "cell_type": "markdown",
   "metadata": {},
   "source": [
    "### Position du bati au sein de la parcelle"
   ]
  },
  {
   "cell_type": "code",
   "execution_count": null,
   "metadata": {
    "collapsed": true,
    "scrolled": true
   },
   "outputs": [],
   "source": [
    "centroid_parcelle = parcelle_batie['geometry'].centroid\n",
    "bati_buffer = bati['geometry'].buffer(5)\n",
    "centroid_retenu = centroid_parcelle[centroid_parcelle.disjoint(bati_buffer.unary_union)]\n",
    "parcelle_batie = parcelle_batie[parcelle_batie.intersects(centroid_retenu)]"
   ]
  },
  {
   "cell_type": "markdown",
   "metadata": {},
   "source": [
    "### Desserte voirie"
   ]
  },
  {
   "cell_type": "code",
   "execution_count": null,
   "metadata": {
    "collapsed": true
   },
   "outputs": [],
   "source": [
    "buffer_route = route[\"geometry\"].buffer(desserte)\n",
    "parcelle_vide = parcelle_vide[parcelle_vide.intersects(buffer_route.unary_union)]"
   ]
  },
  {
   "cell_type": "markdown",
   "metadata": {
    "collapsed": true
   },
   "source": [
    "### Export de la donnée"
   ]
  },
  {
   "cell_type": "code",
   "execution_count": null,
   "metadata": {
    "collapsed": true
   },
   "outputs": [],
   "source": [
    "data_export = input(\"Indiquez le dossier de destination pour exporter les données : \")\n",
    "ces.to_file(data_export + \"/ces.shp\")\n",
    "parcelle_vide.to_file(data_export + \"/dents_creuses.shp\")\n",
    "parcelle_batie.to_file(data_export + \"/potentiel_divisible.shp\")"
   ]
  },
  {
   "cell_type": "markdown",
   "metadata": {},
   "source": [
    "### Calcul temps traitement"
   ]
  },
  {
   "cell_type": "code",
   "execution_count": null,
   "metadata": {
    "collapsed": true,
    "scrolled": true
   },
   "outputs": [],
   "source": [
    "elapsed_time = time.process_time() - t\n",
    "elapsed_time"
   ]
  },
  {
   "cell_type": "markdown",
   "metadata": {},
   "source": [
    "### Qualification du potentiel"
   ]
  },
  {
   "cell_type": "code",
   "execution_count": null,
   "metadata": {
    "collapsed": true
   },
   "outputs": [],
   "source": [
    "t2 = time.process_time()"
   ]
  },
  {
   "cell_type": "markdown",
   "metadata": {},
   "source": [
    "### Création des couches de filtres excluants / limitants / favorisant"
   ]
  },
  {
   "cell_type": "code",
   "execution_count": null,
   "metadata": {
    "collapsed": true
   },
   "outputs": [],
   "source": [
    "# paramètres utilisateurs\n",
    "# hiérarchisation entre : \n",
    "#     - la proximité des équipements spécifiques (à préciser : publiques, commerciaux, sportifs, etc.)\n",
    "#     - la proximité des transports (stations de métro, de bus, de gare)\n",
    "#     - ...\n",
    "\n",
    "# import automatique de la BD TOPO equipement présent dans le dossier utilisateur :\n",
    "for i in os.listdir(choix_du_dossier):\n",
    "    if i = \"nom de la donnée des equipement de la BD TOPO\":\n",
    "        equipement = gpd.read_file(choix_du_dossier + \"/\" + i)\n",
    "        equipement = equipement.to_crs({'init':'epsg:2154'})"
   ]
  },
  {
   "cell_type": "code",
   "execution_count": null,
   "metadata": {
    "collapsed": true
   },
   "outputs": [],
   "source": [
    "elapsed_time2 = time.process_time() - t2\n",
    "elapsed_time2"
   ]
  }
 ],
 "metadata": {
  "kernelspec": {
   "display_name": "Python 3",
   "language": "python",
   "name": "python3"
  },
  "language_info": {
   "codemirror_mode": {
    "name": "ipython",
    "version": 3
   },
   "file_extension": ".py",
   "mimetype": "text/x-python",
   "name": "python",
   "nbconvert_exporter": "python",
   "pygments_lexer": "ipython3",
   "version": "3.6.3"
  }
 },
 "nbformat": 4,
 "nbformat_minor": 2
}
